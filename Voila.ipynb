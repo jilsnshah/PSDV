{
 "cells": [
  {
   "cell_type": "code",
   "execution_count": 1,
   "metadata": {},
   "outputs": [
    {
     "data": {
      "text/html": [
       "<h2 style=\"color: green;\">Voila Interactive Graph Demo</h2>"
      ],
      "text/plain": [
       "<IPython.core.display.HTML object>"
      ]
     },
     "metadata": {},
     "output_type": "display_data"
    },
    {
     "data": {
      "application/vnd.jupyter.widget-view+json": {
       "model_id": "53fef56b627f4bd9bfdd8de202151a33",
       "version_major": 2,
       "version_minor": 0
      },
      "text/plain": [
       "VBox(children=(FloatSlider(value=1.0, description='Frequency:', max=10.0, min=0.1),))"
      ]
     },
     "metadata": {},
     "output_type": "display_data"
    },
    {
     "data": {
      "application/vnd.jupyter.widget-view+json": {
       "model_id": "b64cb7b514aa48ffb192d4db337fb84d",
       "version_major": 2,
       "version_minor": 0
      },
      "text/plain": [
       "Output()"
      ]
     },
     "metadata": {},
     "output_type": "display_data"
    },
    {
     "data": {
      "text/html": [
       "<h3>Interactive Button and Textbox</h3>"
      ],
      "text/plain": [
       "<IPython.core.display.HTML object>"
      ]
     },
     "metadata": {},
     "output_type": "display_data"
    },
    {
     "data": {
      "application/vnd.jupyter.widget-view+json": {
       "model_id": "8696665504e749fb987e01eaf0c51c77",
       "version_major": 2,
       "version_minor": 0
      },
      "text/plain": [
       "Text(value='', description='Name:', placeholder='Enter your name')"
      ]
     },
     "metadata": {},
     "output_type": "display_data"
    },
    {
     "data": {
      "application/vnd.jupyter.widget-view+json": {
       "model_id": "525b6e7f8eb24c8eaddc5616c7fcfec3",
       "version_major": 2,
       "version_minor": 0
      },
      "text/plain": [
       "Button(description='Greet Me!', style=ButtonStyle())"
      ]
     },
     "metadata": {},
     "output_type": "display_data"
    },
    {
     "data": {
      "application/vnd.jupyter.widget-view+json": {
       "model_id": "c0c303dab0cc416f8bcc709706ed68c7",
       "version_major": 2,
       "version_minor": 0
      },
      "text/plain": [
       "Label(value='')"
      ]
     },
     "metadata": {},
     "output_type": "display_data"
    },
    {
     "data": {
      "text/html": [
       "<h3 style=\"color: blue;\">You can embed HTML, CSS, and JavaScript in Voila!</h3>"
      ],
      "text/plain": [
       "<IPython.core.display.HTML object>"
      ]
     },
     "metadata": {},
     "output_type": "display_data"
    },
    {
     "data": {
      "text/html": [
       "<p style=\"font-size:16px;\">Try running this notebook with Voila:</p>"
      ],
      "text/plain": [
       "<IPython.core.display.HTML object>"
      ]
     },
     "metadata": {},
     "output_type": "display_data"
    },
    {
     "data": {
      "text/html": [
       "<code>voila voila_demo.ipynb</code>"
      ],
      "text/plain": [
       "<IPython.core.display.HTML object>"
      ]
     },
     "metadata": {},
     "output_type": "display_data"
    }
   ],
   "source": [
    "\n",
    "# Step 2: Import Necessary Libraries\n",
    "import numpy as np\n",
    "import matplotlib.pyplot as plt\n",
    "import ipywidgets as widgets\n",
    "from IPython.display import display, HTML\n",
    "\n",
    "# Step 3: Create an Interactive Widget (Slider + Graph)\n",
    "def plot_graph(frequency=1):\n",
    "    x = np.linspace(0, 10, 100)\n",
    "    y = np.sin(frequency * x)\n",
    "    \n",
    "    plt.figure(figsize=(6, 4))\n",
    "    plt.plot(x, y, label=f'Sine Wave (freq={frequency})', color='blue')\n",
    "    plt.xlabel('Time')\n",
    "    plt.ylabel('Amplitude')\n",
    "    plt.title('Interactive Sine Wave')\n",
    "    plt.legend()\n",
    "    plt.grid(True)\n",
    "    plt.show()\n",
    "\n",
    "slider = widgets.FloatSlider(value=1, min=0.1, max=10, step=0.1, description='Frequency:')\n",
    "ui = widgets.VBox([slider])\n",
    "out = widgets.interactive_output(plot_graph, {'frequency': slider})\n",
    "\n",
    "display(HTML('<h2 style=\"color: green;\">Voila Interactive Graph Demo</h2>'))\n",
    "display(ui, out)\n",
    "\n",
    "# Step 4: Display a Button and Textbox Example\n",
    "def on_button_click(b):\n",
    "    output_text.value = f'Hello, {name_input.value}! Voila is amazing!'\n",
    "\n",
    "name_input = widgets.Text(placeholder='Enter your name', description='Name:')\n",
    "button = widgets.Button(description='Greet Me!')\n",
    "output_text = widgets.Label()\n",
    "button.on_click(on_button_click)\n",
    "\n",
    "display(HTML('<h3>Interactive Button and Textbox</h3>'))\n",
    "display(name_input, button, output_text)\n",
    "\n",
    "# Step 5: Embed HTML & Styling\n",
    "display(HTML('<h3 style=\"color: blue;\">You can embed HTML, CSS, and JavaScript in Voila!</h3>'))\n",
    "display(HTML('<p style=\"font-size:16px;\">Try running this notebook with Voila:</p>'))\n",
    "display(HTML('<code>voila voila_demo.ipynb</code>'))"
   ]
  }
 ],
 "metadata": {
  "kernelspec": {
   "display_name": "Python 3",
   "language": "python",
   "name": "python3"
  },
  "language_info": {
   "codemirror_mode": {
    "name": "ipython",
    "version": 3
   },
   "file_extension": ".py",
   "mimetype": "text/x-python",
   "name": "python",
   "nbconvert_exporter": "python",
   "pygments_lexer": "ipython3",
   "version": "3.12.4"
  }
 },
 "nbformat": 4,
 "nbformat_minor": 2
}
