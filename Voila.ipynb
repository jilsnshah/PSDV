{
 "cells": [
  {
   "cell_type": "code",
   "execution_count": 7,
   "metadata": {},
   "outputs": [
    {
     "data": {
      "text/html": [
       "\n",
       "<style>\n",
       "    body { background-color: #f4f4f4; font-family: Arial, sans-serif; }\n",
       "    .header { text-align: center; font-size: 26px; font-weight: bold; padding: 10px; color: #fff; background: linear-gradient(to right, #007BFF, #00C1FF); border-radius: 10px; }\n",
       "    .container { display: flex; flex-direction: column; align-items: center; }\n",
       "    .box { width: 60%; padding: 10px; text-align: center; }\n",
       "    .button { width: 250px !important; height: 50px !important; font-size: 16px !important; border-radius: 20px !important; background: linear-gradient(to right, #ff416c, #ff4b2b); color: white !important; font-weight: bold; border: none !important; cursor: pointer; }\n",
       "    .button:hover { background: linear-gradient(to right, #ff4b2b, #ff416c); }\n",
       "    .dropdown, .date-picker { width: 300px !important; height: 40px !important; font-size: 14px !important; text-align: center !important; }\n",
       "</style>\n"
      ],
      "text/plain": [
       "<IPython.core.display.HTML object>"
      ]
     },
     "metadata": {},
     "output_type": "display_data"
    },
    {
     "data": {
      "text/html": [
       "<div class='header'>📊 PM2.5 Level Analysis Dashboard</div>"
      ],
      "text/plain": [
       "<IPython.core.display.HTML object>"
      ]
     },
     "metadata": {},
     "output_type": "display_data"
    },
    {
     "data": {
      "application/vnd.jupyter.widget-view+json": {
       "model_id": "29884796d5c84f66814a9aefd0b2c1e7",
       "version_major": 2,
       "version_minor": 0
      },
      "text/plain": [
       "VBox(children=(HBox(children=(Dropdown(description='State:', layout=Layout(width='300px'), options=('Andhra Pr…"
      ]
     },
     "metadata": {},
     "output_type": "display_data"
    }
   ],
   "source": [
    "import pandas as pd\n",
    "import ipywidgets as widgets\n",
    "from IPython.display import display, HTML\n",
    "import plotly.express as px\n",
    "\n",
    "# Load dataset\n",
    "file_path = \"Data.csv\"  # Ensure 'Data.csv' is in the same directory as this script\n",
    "df = pd.read_csv(file_path)\n",
    "\n",
    "# Convert Timestamp to datetime\n",
    "df[\"Timestamp\"] = pd.to_datetime(df[\"Timestamp\"], errors=\"coerce\")\n",
    "\n",
    "# Ensure PM2.5 values are numeric and clean data\n",
    "df[\"PM2.5\"] = pd.to_numeric(df[\"PM2.5\"], errors=\"coerce\")\n",
    "df = df.dropna(subset=[\"PM2.5\", \"state\", \"Timestamp\"])  \n",
    "\n",
    "# Unique states list\n",
    "states = sorted(df[\"state\"].dropna().unique())\n",
    "\n",
    "# Custom CSS Styling for UI\n",
    "custom_css = \"\"\"\n",
    "<style>\n",
    "    body { background-color: #f4f4f4; font-family: Arial, sans-serif; }\n",
    "    .header { text-align: center; font-size: 26px; font-weight: bold; padding: 10px; color: #fff; background: linear-gradient(to right, #007BFF, #00C1FF); border-radius: 10px; }\n",
    "    .container { display: flex; flex-direction: column; align-items: center; }\n",
    "    .box { width: 60%; padding: 10px; text-align: center; }\n",
    "    .button { width: 250px !important; height: 50px !important; font-size: 16px !important; border-radius: 20px !important; background: linear-gradient(to right, #ff416c, #ff4b2b); color: white !important; font-weight: bold; border: none !important; cursor: pointer; }\n",
    "    .button:hover { background: linear-gradient(to right, #ff4b2b, #ff416c); }\n",
    "    .dropdown, .date-picker { width: 300px !important; height: 40px !important; font-size: 14px !important; text-align: center !important; }\n",
    "</style>\n",
    "\"\"\"\n",
    "\n",
    "# Create widgets\n",
    "state_dropdown = widgets.Dropdown(\n",
    "    options=states,\n",
    "    description=\"State:\",\n",
    "    layout=widgets.Layout(width=\"300px\")\n",
    ")\n",
    "\n",
    "date_picker_start = widgets.DatePicker(\n",
    "    description=\"From:\",\n",
    "    layout=widgets.Layout(width=\"200px\")\n",
    ")\n",
    "\n",
    "date_picker_end = widgets.DatePicker(\n",
    "    description=\"To:\",\n",
    "    layout=widgets.Layout(width=\"200px\")\n",
    ")\n",
    "\n",
    "graph_type_dropdown = widgets.Dropdown(\n",
    "    options=[\"Line Chart\", \"Bar Chart\", \"Scatter Plot\"],\n",
    "    description=\"Graph Type:\",\n",
    "    layout=widgets.Layout(width=\"300px\")\n",
    ")\n",
    "\n",
    "apply_button = widgets.Button(\n",
    "    description=\"Apply Filter\",\n",
    "    button_style=\"primary\",\n",
    "    layout=widgets.Layout(width=\"250px\", height=\"50px\"),\n",
    "    style={\"button_color\": \"#ff416c\"}\n",
    ")\n",
    "\n",
    "apply_button.add_class(\"button\")\n",
    "output = widgets.Output()\n",
    "\n",
    "# Function to filter and plot data interactively with Plotly Express\n",
    "def filter_and_plot(_):\n",
    "    output.clear_output()\n",
    "    with output:\n",
    "        state_selected = state_dropdown.value\n",
    "        start_date = date_picker_start.value\n",
    "        end_date = date_picker_end.value\n",
    "        graph_type = graph_type_dropdown.value\n",
    "\n",
    "        if not start_date or not end_date:\n",
    "            display(HTML(\"<p style='color:red; font-weight:bold;'>⚠️ Please select both dates.</p>\"))\n",
    "            return\n",
    "\n",
    "        filtered_df = df[(df[\"state\"] == state_selected) & \n",
    "                         (df[\"Timestamp\"] >= pd.Timestamp(start_date)) & \n",
    "                         (df[\"Timestamp\"] <= pd.Timestamp(end_date))]\n",
    "\n",
    "        if filtered_df.empty:\n",
    "            display(HTML(f\"<p style='color:red; font-weight:bold;'>⚠️ No data found for {state_selected} in the selected range.</p>\"))\n",
    "            return\n",
    "\n",
    "        # Select appropriate graph type\n",
    "        if graph_type == \"Line Chart\":\n",
    "            fig = px.line(filtered_df, x=\"Timestamp\", y=\"PM2.5\", title=f\"PM2.5 Levels in {state_selected} ({start_date} to {end_date})\", markers=True)\n",
    "        elif graph_type == \"Bar Chart\":\n",
    "            fig = px.bar(filtered_df, x=\"Timestamp\", y=\"PM2.5\", title=f\"PM2.5 Levels in {state_selected} ({start_date} to {end_date})\")\n",
    "        else:\n",
    "            fig = px.scatter(filtered_df, x=\"Timestamp\", y=\"PM2.5\", title=f\"PM2.5 Levels in {state_selected} ({start_date} to {end_date})\", trendline=\"lowess\")\n",
    "\n",
    "        fig.update_layout(\n",
    "            title_font=dict(size=18, family='Arial', color='#333'),\n",
    "            xaxis_title=\"Date\",\n",
    "            yaxis_title=\"PM2.5\",\n",
    "            template=\"plotly_white\",\n",
    "            margin=dict(l=40, r=40, t=80, b=40)\n",
    "        )\n",
    "        fig.update_xaxes(rangeslider_visible=True, tickangle=45)\n",
    "        fig.show()\n",
    "\n",
    "# Bind function to button\n",
    "apply_button.on_click(filter_and_plot)\n",
    "\n",
    "# Display UI\n",
    "display(HTML(custom_css))  # Apply custom CSS\n",
    "display(HTML(\"<div class='header'>📊 PM2.5 Level Analysis Dashboard</div>\"))  # Header\n",
    "display(\n",
    "    widgets.VBox([\n",
    "        widgets.HBox([state_dropdown], layout=widgets.Layout(justify_content=\"center\", padding=\"10px\")),\n",
    "        widgets.HBox([date_picker_start, date_picker_end], layout=widgets.Layout(justify_content=\"center\", width=\"60%\", padding=\"10px\")),\n",
    "        widgets.HBox([graph_type_dropdown], layout=widgets.Layout(justify_content=\"center\", padding=\"10px\")),\n",
    "        widgets.HBox([apply_button], layout=widgets.Layout(justify_content=\"center\", padding=\"10px\")),\n",
    "        output\n",
    "    ], layout=widgets.Layout(align_items=\"center\"))\n",
    ")\n"
   ]
  }
 ],
 "metadata": {
  "kernelspec": {
   "display_name": "Python 3",
   "language": "python",
   "name": "python3"
  },
  "language_info": {
   "codemirror_mode": {
    "name": "ipython",
    "version": 3
   },
   "file_extension": ".py",
   "mimetype": "text/x-python",
   "name": "python",
   "nbconvert_exporter": "python",
   "pygments_lexer": "ipython3",
   "version": "3.12.4"
  }
 },
 "nbformat": 4,
 "nbformat_minor": 2
}
