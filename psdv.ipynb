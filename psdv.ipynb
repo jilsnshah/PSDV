{
 "cells": [
  {
   "cell_type": "markdown",
   "metadata": {},
   "source": [
    "Q1 List Operations and Basic Statistics"
   ]
  },
  {
   "cell_type": "code",
   "execution_count": null,
   "metadata": {},
   "outputs": [],
   "source": [
    "ES114 = list(range(1,21))\n",
    "# compute the sum of even numbers in list\n",
    "sum_even_list = sum(ES114[1::2])\n",
    "#compute the product of odd numbers in list\n",
    "product = 1\n",
    "for num in ES114[::2]:\n",
    "    product *=num\n"
   ]
  },
  {
   "cell_type": "markdown",
   "metadata": {},
   "source": [
    "Q2 Explain the difference between mutable and immutable data types in Python. Provide examples of each.\n",
    "\n",
    "A2 While changing the value stored in mutable datatypes memory address doesn't change eg: list , dict Whereas in immutable datatypes memory adrress of object changes while modifying the value stored in it eg: int float str"
   ]
  },
  {
   "cell_type": "markdown",
   "metadata": {},
   "source": [
    "Q3 Fibonacci Sequence"
   ]
  },
  {
   "cell_type": "code",
   "execution_count": 2,
   "metadata": {},
   "outputs": [
    {
     "name": "stdout",
     "output_type": "stream",
     "text": [
      "[1, 1, 2, 3, 5, 8, 13, 21, 34, 55]\n"
     ]
    }
   ],
   "source": [
    "def fib(n):\n",
    "    if n <3:\n",
    "        return 1\n",
    "    else :\n",
    "        return fib(n-1)+fib(n-2)\n",
    "def get_list(n):\n",
    "    return list(fib(i) for i in range(1,n+1))\n",
    "n =10\n",
    "print(get_list(n))"
   ]
  },
  {
   "cell_type": "markdown",
   "metadata": {},
   "source": [
    "Q4 List Manipulation"
   ]
  },
  {
   "cell_type": "code",
   "execution_count": null,
   "metadata": {},
   "outputs": [],
   "source": [
    "l = [3,5,7,9,11,13]\n",
    "l.insert(3,6)\n",
    "l.remove(7)\n",
    "l.reverse()\n"
   ]
  },
  {
   "cell_type": "markdown",
   "metadata": {},
   "source": [
    "Q5"
   ]
  },
  {
   "cell_type": "code",
   "execution_count": null,
   "metadata": {},
   "outputs": [],
   "source": [
    "import matplotlib.pyplot as plt\n"
   ]
  }
 ],
 "metadata": {
  "kernelspec": {
   "display_name": "Python 3",
   "language": "python",
   "name": "python3"
  },
  "language_info": {
   "codemirror_mode": {
    "name": "ipython",
    "version": 3
   },
   "file_extension": ".py",
   "mimetype": "text/x-python",
   "name": "python",
   "nbconvert_exporter": "python",
   "pygments_lexer": "ipython3",
   "version": "3.12.4"
  }
 },
 "nbformat": 4,
 "nbformat_minor": 2
}
