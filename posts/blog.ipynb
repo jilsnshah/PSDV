{
 "cells": [
  {
   "cell_type": "markdown",
   "metadata": {},
   "source": [
    "<p style=\"font-size: 30px;\"><strong>Title:</strong> Building Interactive Dashboards with Taipy</p>"
   ]
  },
  {
   "cell_type": "markdown",
   "metadata": {},
   "source": [
    "<p style=\"font-size: 30px;\"><strong>Introduction:</strong></p>"
   ]
  },
  {
   "cell_type": "markdown",
   "metadata": {},
   "source": [
    "<p style=\"font-size: 18px;\">\n",
    "    This document provides a comprehensive guide to building interactive dashboards using Taipy, a Python framework for data-driven applications. Taipy simplifies dashboard creation with its Taipy GUI module, allowing developers to create dynamic, responsive, and visually appealing user interfaces with minimal effort.<br>\n",
    "    <br>\n",
    "    In this guide, we will explore:\n",
    "    <ul style=\"margin-top: 10px;\">\n",
    "        <li>How to set up Taipy</li>\n",
    "        <li>Key features of Taipy dashboards</li>\n",
    "        <li>Code structure and examples</li>\n",
    "        <li>Use cases for real-world applications</li>\n",
    "    </ul>\n",
    "</p>"
   ]
  },
  {
   "cell_type": "markdown",
   "metadata": {},
   "source": [
    "<p style=\"font-size: 30px;\"><strong>Installation & Setup:</strong></p>"
   ]
  },
  {
   "cell_type": "markdown",
   "metadata": {},
   "source": [
    "<p style=\"font-size: 18px;\">\n",
    "   To get started with Taipy, install it using:<br>\n",
    "</p>"
   ]
  },
  {
   "cell_type": "code",
   "execution_count": null,
   "metadata": {},
   "outputs": [],
   "source": [
    "pip install taipy"
   ]
  },
  {
   "cell_type": "markdown",
   "metadata": {},
   "source": [
    "<p style=\"font-size: 18px;\"><strong>Basic Taipy Application Structure</strong>"
   ]
  },
  {
   "cell_type": "markdown",
   "metadata": {},
   "source": [
    "<p style=\"font-size: 18px;\">A Taipy-based application generally consists of:<br>\n",
    "\n",
    "&nbsp;&nbsp;&nbsp;1. Taipy Core – Manages workflows, scenarios, and data pipelines.<br>\n",
    "&nbsp;&nbsp;&nbsp;2. Taipy GUI – Provides a user-friendly way to create interactive dashboards.<br>"
   ]
  },
  {
   "cell_type": "markdown",
   "metadata": {},
   "source": [
    "<p style=\"font-size: 18px;\"><strong>Setting Up a Taipy Project</strong><br>\n",
    "&nbsp;&nbsp;&nbsp;1. Install Taipy and necessary dependencies.<br>\n",
    "&nbsp;&nbsp;&nbsp;2. Import required modules:</p>\n",
    "\n"
   ]
  },
  {
   "cell_type": "code",
   "execution_count": null,
   "metadata": {},
   "outputs": [],
   "source": [
    "from taipy.gui import Gui"
   ]
  },
  {
   "cell_type": "markdown",
   "metadata": {},
   "source": [
    "<p style=\"font-size: 18px;\">&nbsp;&nbsp;&nbsp;3. Define your data processing logic (if needed).<br>\n",
    "&nbsp;&nbsp;&nbsp;4. Create UI elements such as dropdowns, filters, and charts.<br>\n",
    "&nbsp;&nbsp;&nbsp;5. Run the application using:</p>"
   ]
  },
  {
   "cell_type": "code",
   "execution_count": null,
   "metadata": {},
   "outputs": [],
   "source": [
    "Gui(page).run()"
   ]
  },
  {
   "cell_type": "markdown",
   "metadata": {},
   "source": [
    "<p style=\"font-size: 30px;\"><strong>Key Features & Explanation:</strong></p>"
   ]
  },
  {
   "cell_type": "markdown",
   "metadata": {},
   "source": [
    "<p style=\"font-size: 18px;\">\n",
    "    <strong>🔹 Dynamic Data Filtering & Selection</strong><br>\n",
    "    <ul>\n",
    "        <li>Users can filter data using date selectors, dropdowns, and buttons.</li>\n",
    "        <li>Example: A dropdown to select a year for air pollution data visualization.</li>\n",
    "    </ul>\n",
    "    <strong>🔹 Interactive Data Visualizations</strong><br>\n",
    "    <ul>\n",
    "        <li>Bar charts for comparing pollution levels across states.</li>\n",
    "        <li>Real-time data updates when filters change.</li>\n",
    "        <li>Dark-themed UI for better readability.</li>\n",
    "    </ul>\n",
    "    <strong>🔹 User Input Handling</strong><br>\n",
    "    <ul>\n",
    "        <li>Dropdown menus for category selection.</li>\n",
    "        <li>Date pickers to choose data ranges.</li>\n",
    "        <li>\"Apply\" button to update visualizations dynamically.</li>\n",
    "    </ul>\n",
    "    <strong>🔹 Extensive Charting Options</strong><br>\n",
    "    <ul>\n",
    "        <li>Built-in chart types: Line, bar, scatter, heatmaps, and geographic maps.</li>\n",
    "        <li>Plotly integration: Advanced interactivity (zoom, hover tooltips, annotations). </li>\n",
    "    </ul>\n",
    "     <strong>🔹      Data-Driven Applications </strong><br>\n",
    "    <ul>\n",
    "        <li>Directly bind datasets (CSV, SQL, APIs) to UI components.</li>\n",
    "        <li>Features: Auto-syncing tables, dynamic filters, and pagination.  </li>\n",
    "    </ul>\n",
    "    \n",
    "    \n",
    "</p>"
   ]
  },
  {
   "cell_type": "markdown",
   "metadata": {},
   "source": [
    "<p style=\"font-size: 30px;\"><strong>Code Examples:</strong></p>"
   ]
  },
  {
   "cell_type": "markdown",
   "metadata": {},
   "source": [
    "<p style=\"font-size: 18px;\"><strong>a) Creating a Simple Dashboard Layout</strong></p>"
   ]
  },
  {
   "cell_type": "code",
   "execution_count": null,
   "metadata": {},
   "outputs": [],
   "source": [
    "with tgb.Page() as page:\n",
    "    tgb.text(\"Select State:\")\n",
    "    tgb.selector(value=\"{selected_state}\", lov=available_state, on_change=update_data,dropdown=True, \n",
    "    label=\"State\")\n",
    "    tgb.chart(data=\"{chart_data}\",mode='lines', x=\"Timestamp\", y=\"PM2.5\", layout=\"{layout}\")"
   ]
  },
  {
   "cell_type": "markdown",
   "metadata": {},
   "source": [
    "<p style=\"font-size: 18px;\">This is how we define the layout of the page we want to create. This page will have one text at top written as \"Select State\" and there will be a dropdown selector below it. The default of dropdown will be the intial assigned value of variable selected_state and the available options will be lov(list of values ) - available_state. And we define a chart which will change on different values of selector.<br><br>\n",
    "Here is how the output layout for this code will look like :</p>"
   ]
  },
  {
   "cell_type": "markdown",
   "metadata": {},
   "source": [
    "<img src=\"https://raw.githubusercontent.com/Shubhamch703/psdv_J038_lab4/main/Screenshot%202025-02-25%20115957.png\" alt=\"Screenshot\" width=\"900\" height=\"400\">"
   ]
  },
  {
   "cell_type": "markdown",
   "metadata": {},
   "source": [
    "<p style=\"font-size: 18px;\"><strong>b) Plotting a Bar Chart</strong>"
   ]
  },
  {
   "cell_type": "markdown",
   "metadata": {},
   "source": [
    "<p style=\"font-size: 18px;\">First we need to assign a on_change or on_apply action to selector,slider,etc. So that on change of the value in selector/slider the chart also changes dynamically.</p>"
   ]
  },
  {
   "cell_type": "code",
   "execution_count": null,
   "metadata": {},
   "outputs": [],
   "source": [
    "tgb.selector(value=\"{selected_year}\", lov=available_years, on_change=update_data,dropdown=True, \n",
    "    label=\"Year\")"
   ]
  },
  {
   "cell_type": "markdown",
   "metadata": {},
   "source": [
    "<p style=\"font-size: 18px;\">Now we will define a update_data which takes 'state' as parameter and does not require any arguement when calling it. state refers to the current time at which the action has triggered. state will change the value of desired variables according to that change. For example i want the chart to change every time i change year from the selector. So the desired update_data function will look like : </p>"
   ]
  },
  {
   "cell_type": "code",
   "execution_count": null,
   "metadata": {},
   "outputs": [],
   "source": [
    "def update_data(state):\n",
    "    state.selected_year = state.selected_year\n",
    "    state.chart_data = get_top_states(state.selected_year)\n",
    "    state.layout = {\"yaxis\": {\"title\": \"PM2.5 Levels\"}, \"title\": f\"Top 10 States with highest PM2.5 Level in {state.selected_year}\"}"
   ]
  },
  {
   "cell_type": "markdown",
   "metadata": {},
   "source": [
    "<p style=\"font-size: 18px;\">This function upon called using selector will change three values- selected_year which will be chosen by user and using this value of year the chart_data will change by the function get_top_states which will take the arguement selected_year and at last the layout will also be changed.<br>\n",
    "Now we will look at the function get_top states : </p>"
   ]
  },
  {
   "cell_type": "code",
   "execution_count": null,
   "metadata": {},
   "outputs": [],
   "source": [
    "def get_top_states(year):\n",
    "    filtered_df = df[df[\"Year\"] == year]\n",
    "    if filtered_df.empty:\n",
    "        return pd.DataFrame({\"state\": [], \"PM2.5\": []})  \n",
    "    return (\n",
    "        filtered_df.groupby(\"state\")[\"PM2.5\"]\n",
    "        .mean()\n",
    "        .sort_values(ascending=False)\n",
    "        .head(10)\n",
    "        .reset_index()\n",
    "    )"
   ]
  },
  {
   "cell_type": "markdown",
   "metadata": {},
   "source": [
    "<p style=\"font-size: 18px;\">This will return a dataframe to variable chart_data which is eventually used to plot the chart in page.</p>"
   ]
  },
  {
   "cell_type": "markdown",
   "metadata": {},
   "source": [
    "<p style=\"font-size: 18px;\"><strong> c) Styling and Customization></strong></li>"
   ]
  },
  {
   "cell_type": "markdown",
   "metadata": {},
   "source": [
    "<p style=\"font-size: 18px;\">We can also customize colors, font, themes etc.</p>"
   ]
  },
  {
   "cell_type": "code",
   "execution_count": null,
   "metadata": {},
   "outputs": [],
   "source": [
    "page = \"\"\"\n",
    "<style>\n",
    "  h1 {color: lightblue; text-align: center;}\n",
    "</style>\n",
    "\n",
    "# Customized Dashboard\n",
    "\n",
    "Select a Year: <|{selected_year}|selector|lov={years}|>\n",
    "\n",
    "<|{chart}|chart|type=bar|color=#7B68EE|>\n",
    "\"\"\"\n"
   ]
  },
  {
   "cell_type": "markdown",
   "metadata": {},
   "source": [
    "<p style=\"font-size: 18px;\"> Taipy allows CSS-like customization for styling the dashboard.</p>"
   ]
  },
  {
   "cell_type": "markdown",
   "metadata": {},
   "source": [
    "<p style=\"font-size: 30px;\"><strong>Screenshots & Visuals:</strong></p>"
   ]
  },
  {
   "cell_type": "markdown",
   "metadata": {},
   "source": [
    "<p style=\"font-size: 18px;\"><Strong>Visual Elements in Taipy</strong></p>"
   ]
  },
  {
   "cell_type": "markdown",
   "metadata": {},
   "source": [
    "<p style=\"font-size: 18px;\"><strong><li>Slider</li></strong></p>"
   ]
  },
  {
   "cell_type": "markdown",
   "metadata": {},
   "source": [
    "<img src=\"https://raw.githubusercontent.com/Shubhamch703/psdv_J038_lab4/main/Screenshot%202025-02-25%20123326.png\" alt=\"Screenshot\" width=\"700\" height=\"120\">"
   ]
  },
  {
   "cell_type": "markdown",
   "metadata": {},
   "source": [
    "<p style=\"font-size: 18px;\"><strong><li>Selector</li></strong></p>"
   ]
  },
  {
   "cell_type": "markdown",
   "metadata": {},
   "source": [
    "<img src=\"https://raw.githubusercontent.com/Shubhamch703/psdv_J038_lab4/main/Screenshot%202025-02-25%20123346.png\" alt=\"Screenshot\" width=\"860\" height=\"500\">"
   ]
  },
  {
   "cell_type": "markdown",
   "metadata": {},
   "source": [
    "<p style=\"font-size: 18px;\"><strong><li>Date</li></strong></p>"
   ]
  },
  {
   "cell_type": "markdown",
   "metadata": {},
   "source": [
    "<img src=\"https://raw.githubusercontent.com/Shubhamch703/psdv_J038_lab4/main/Screenshot%202025-02-25%20123438.png\" alt=\"Screenshot\" width=\"700\" height=\"400\">"
   ]
  },
  {
   "cell_type": "markdown",
   "metadata": {},
   "source": [
    "<p style=\"font-size: 18px;\"><strong><li>Button</li></strong></p>"
   ]
  },
  {
   "cell_type": "markdown",
   "metadata": {},
   "source": [
    "<img src=\"https://raw.githubusercontent.com/Shubhamch703/psdv_J038_lab4/main/Screenshot%202025-02-25%20123444.png\" alt=\"Screenshot\" width=\"400\" height=\"200\">"
   ]
  },
  {
   "cell_type": "markdown",
   "metadata": {},
   "source": [
    "<p style=\"font-size: 18px;\"><strong>Graphs</strong></p>"
   ]
  },
  {
   "cell_type": "markdown",
   "metadata": {},
   "source": [
    "<p style=\"font-size: 18px;\"><strong><li>Bar Graph</li></strong></p>"
   ]
  },
  {
   "cell_type": "markdown",
   "metadata": {},
   "source": [
    "<img src=\"https://raw.githubusercontent.com/Shubhamch703/psdv_J038_lab4/main/Screenshot%202025-02-25%20124938.png\" alt=\"Screenshot\" width=\"900\" height=\"400\">"
   ]
  },
  {
   "cell_type": "markdown",
   "metadata": {},
   "source": [
    "<p style=\"font-size: 18px;\"><strong><li>Line Graph</li></strong></p>"
   ]
  },
  {
   "cell_type": "markdown",
   "metadata": {},
   "source": [
    "<img src=\"https://raw.githubusercontent.com/Shubhamch703/psdv_J038_lab4/main/Screenshot%202025-02-25%20125025.png\" alt=\"Screenshot\" width=\"900\" height=\"400\">"
   ]
  },
  {
   "cell_type": "markdown",
   "metadata": {},
   "source": [
    "<p style=\"font-size: 18px;\"><strong><li>Pie Chart</li></strong></p>"
   ]
  },
  {
   "cell_type": "markdown",
   "metadata": {},
   "source": [
    "<img src=\"https://raw.githubusercontent.com/Shubhamch703/psdv_J038_lab4/main/Screenshot%202025-02-25%20125352.png\" alt=\"Screenshot\" width=\"800\" height=\"400\">"
   ]
  },
  {
   "cell_type": "markdown",
   "metadata": {},
   "source": [
    "<p style=\"font-size: 18px;\"><strong><li>Heatmap</li></strong></p>"
   ]
  },
  {
   "cell_type": "markdown",
   "metadata": {},
   "source": [
    "<img src=\"https://raw.githubusercontent.com/Shubhamch703/psdv_J038_lab4/main/Screenshot%202025-02-25%20125428.png\" alt=\"Screenshot\" width=\"800\" height=\"600\">"
   ]
  },
  {
   "cell_type": "markdown",
   "metadata": {},
   "source": [
    "<p style=\"font-size: 18px;\"><strong><li>Dashboard</li></strong></p>"
   ]
  },
  {
   "cell_type": "markdown",
   "metadata": {},
   "source": [
    "<img src=\"https://raw.githubusercontent.com/Shubhamch703/psdv_J038_lab4/main/Screenshot%202025-02-25%20130214.png\" alt=\"Screenshot\" width=\"900\" height=\"600\">"
   ]
  },
  {
   "cell_type": "markdown",
   "metadata": {},
   "source": [
    "<p style=\"font-size: 30px;\"><strong>Use Cases:</strong></p>"
   ]
  },
  {
   "cell_type": "markdown",
   "metadata": {},
   "source": [
    "<p style=\"font-size: 18px;\">\n",
    "    <strong>🔹 Air Pollution Monitoring Dashboard</strong><br>\n",
    "    <ul>\n",
    "        <li>Visualizing PM2.5 levels across different states over time.</li>\n",
    "        <li>Allowing users to filter by year and region.</li>\n",
    "    </ul>\n",
    "    <strong>🔹 Environmental Data Analysis</strong><br>\n",
    "    <ul>\n",
    "        <li>Data-driven decision-making for government agencies.</li>\n",
    "        <li>Historical comparisons of pollution trends.</li>\n",
    "    </ul>\n",
    "    <strong>🔹 Real-Time Data Visualization</strong><br>\n",
    "    <ul>\n",
    "        <li>Dashboards for tracking pollution changes dynamically.</li>\n",
    "    </ul>\n",
    "</p>"
   ]
  },
  {
   "cell_type": "markdown",
   "metadata": {},
   "source": [
    "<p style=\"font-size: 30px;\"><strong>Conclusion:</strong></p>"
   ]
  },
  {
   "cell_type": "markdown",
   "metadata": {},
   "source": [
    "<p style=\"font-size: 18px;\">Taipy provides an efficient and user-friendly way to build dashboards. Its ability to handle dynamic updates, interactivity, and visualization makes it an excellent choice for environmental data analysis, business intelligence, and more.<br>\n",
    "\n",
    "By following this guide, you can customize your own Taipy dashboards and expand their functionality as needed.</p>"
   ]
  },
  {
   "cell_type": "markdown",
   "metadata": {},
   "source": [
    "<p style=\"font-size: 30px;\"><strong>References & Further Reading:</strong></p>"
   ]
  },
  {
   "cell_type": "markdown",
   "metadata": {},
   "source": [
    "<li><a href=\"https://docs.taipy.io/en/latest/\" target=\"_blank\">Taipy Official Documentation</a></li>"
   ]
  },
  {
   "cell_type": "markdown",
   "metadata": {},
   "source": [
    "<li><a href=\"https://github.com/Avaiga/taipy\" target=\"_blank\">Taipy GitHub Repository</a></li>"
   ]
  }
 ],
 "metadata": {
  "language_info": {
   "name": "python"
  }
 },
 "nbformat": 4,
 "nbformat_minor": 2
}
